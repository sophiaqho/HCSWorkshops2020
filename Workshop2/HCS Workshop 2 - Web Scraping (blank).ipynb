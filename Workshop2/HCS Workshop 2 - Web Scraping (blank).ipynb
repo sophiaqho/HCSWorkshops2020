{
 "cells": [
  {
   "cell_type": "code",
   "execution_count": 1,
   "metadata": {},
   "outputs": [],
   "source": [
    "# HCS Workshop 2, Web Scraping"
   ]
  },
  {
   "cell_type": "code",
   "execution_count": 2,
   "metadata": {},
   "outputs": [],
   "source": [
    "# Author: Sophia Ho"
   ]
  },
  {
   "cell_type": "code",
   "execution_count": 15,
   "metadata": {},
   "outputs": [
    {
     "name": "stdout",
     "output_type": "stream",
     "text": [
      "200\n",
      "b'<!DOCTYPE html>\\n<html>\\n    <head>\\n        <title>A simple example page</title>\\n    </head>\\n    <body>\\n        <p>Here is some simple content for this page.</p>\\n    </body>\\n</html>'\n"
     ]
    }
   ],
   "source": [
    "# import requests package and set up page\n",
    "\n",
    "import requests\n",
    "page = requests.get(\"http://dataquestio.github.io/web-scraping-pages/simple.html\")\n",
    "print(page.status_code)\n",
    "print(page.content)\n"
   ]
  },
  {
   "cell_type": "code",
   "execution_count": 16,
   "metadata": {},
   "outputs": [
    {
     "name": "stdout",
     "output_type": "stream",
     "text": [
      "<!DOCTYPE html>\n",
      "<html>\n",
      " <head>\n",
      "  <title>\n",
      "   A simple example page\n",
      "  </title>\n",
      " </head>\n",
      " <body>\n",
      "  <p>\n",
      "   Here is some simple content for this page.\n",
      "  </p>\n",
      " </body>\n",
      "</html>\n"
     ]
    }
   ],
   "source": [
    "# import BeautifulSoup and make a \"BeautifulSoup object\"\n",
    "# sudo apt-get install python-bs4\n",
    "\n",
    "from bs4 import BeautifulSoup\n",
    "soup = BeautifulSoup(page.content, 'html.parser')\n",
    "print(soup.prettify())"
   ]
  },
  {
   "cell_type": "code",
   "execution_count": 17,
   "metadata": {},
   "outputs": [
    {
     "name": "stdout",
     "output_type": "stream",
     "text": [
      "head\n",
      "<p>Here is some simple content for this page.</p>\n",
      "\n"
     ]
    }
   ],
   "source": [
    "# list soup children, title, etc.\n",
    "list(soup.children)\n",
    "list(soup.title)\n",
    "print(soup.title.parent.name)\n",
    "print(soup.p)\n",
    "print()"
   ]
  },
  {
   "cell_type": "code",
   "execution_count": 18,
   "metadata": {},
   "outputs": [
    {
     "data": {
      "text/plain": [
       "'Here is some simple content for this page.'"
      ]
     },
     "execution_count": 18,
     "metadata": {},
     "output_type": "execute_result"
    }
   ],
   "source": [
    "# more printing\n",
    "html = list(soup.children)[2]\n",
    "list(html.children)\n",
    "body = list(html.children)[3]\n",
    "list(body.children)\n",
    "p = list(body.children)[1]\n",
    "p.get_text()"
   ]
  },
  {
   "cell_type": "code",
   "execution_count": 19,
   "metadata": {},
   "outputs": [
    {
     "data": {
      "text/plain": [
       "<head>\n",
       "<title>A simple example page</title>\n",
       "</head>"
      ]
     },
     "execution_count": 19,
     "metadata": {},
     "output_type": "execute_result"
    }
   ],
   "source": [
    "# find function\n",
    "soup.find('p')\n",
    "soup.find('head')"
   ]
  },
  {
   "cell_type": "code",
   "execution_count": 8,
   "metadata": {},
   "outputs": [],
   "source": [
    "# more sources? \n",
    "# https://beautiful-soup-4.readthedocs.io/en/latest/\n",
    "# https://www.dataquest.io/blog/web-scraping-tutorial-python/"
   ]
  },
  {
   "cell_type": "code",
   "execution_count": 10,
   "metadata": {},
   "outputs": [
    {
     "name": "stdout",
     "output_type": "stream",
     "text": [
      "['https://en.wikipedia.org/wiki/Avocado&sa=U&ved=2ahUKEwjuyK_XgObsAhVnFTQIHZuBAVIQndQBMAB6BAgTEAI&usg=AOvVaw1whXvA6LFhGpouI22RFH3o']\n",
      "['https://www.webmd.com/food-recipes/all-about-avocados&sa=U&ved=2ahUKEwjuyK_XgObsAhVnFTQIHZuBAVIQFjAaegQIChAB&usg=AOvVaw27qOxZwhCPtKpjghgS8IxF']\n",
      "['https://www.webmd.com/food-recipes/all-about-avocados%231-1&sa=U&ved=2ahUKEwjuyK_XgObsAhVnFTQIHZuBAVIQ0gIwGnoECAoQAw&usg=AOvVaw2fhIZPriEvzap3zFLhbHC8']\n",
      "['https://www.webmd.com/food-recipes/all-about-avocados%231-2&sa=U&ved=2ahUKEwjuyK_XgObsAhVnFTQIHZuBAVIQ0gIwGnoECAoQBA&usg=AOvVaw0rj8H5ap11dk5t4Xt7QBGW']\n",
      "['https://www.webmd.com/food-recipes/all-about-avocados%232-3&sa=U&ved=2ahUKEwjuyK_XgObsAhVnFTQIHZuBAVIQ0gIwGnoECAoQBQ&usg=AOvVaw3p_FkZ1eXRSSeiSUOYxWLH']\n",
      "['https://www.healthline.com/nutrition/12-proven-benefits-of-avocado&sa=U&ved=2ahUKEwjuyK_XgObsAhVnFTQIHZuBAVIQFjAbegQIBRAB&usg=AOvVaw2gZAxAEX0lARF3w7vzuOyu']\n",
      "['https://www.medicalnewstoday.com/articles/270406&sa=U&ved=2ahUKEwjuyK_XgObsAhVnFTQIHZuBAVIQFjAfegQICRAB&usg=AOvVaw1TuM0rF3VX_UgdYNnJe-pr']\n",
      "['http://www.whfoods.com/genpage.php%3Ftname%3Dfoodspice%26dbid%3D5&sa=U&ved=2ahUKEwjuyK_XgObsAhVnFTQIHZuBAVIQFjAkegQIBBAB&usg=AOvVaw3_SD0dsvAs7tTWhdDh03Ry']\n",
      "['https://www.californiaavocado.com/nutrition&sa=U&ved=2ahUKEwjuyK_XgObsAhVnFTQIHZuBAVIQFjAlegQICBAB&usg=AOvVaw1ej1-hZhyVfnlHLUdYG9QU']\n",
      "['https://cleananddelicious.com/avocado-101/&sa=U&ved=2ahUKEwjuyK_XgObsAhVnFTQIHZuBAVIQFjAmegQIBhAB&usg=AOvVaw3clrFYJH_TbG3PtypREzc8']\n",
      "['https://www.youtube.com/watch%3Fv%3D2Cfl-aVbbz0&sa=U&ved=2ahUKEwjuyK_XgObsAhVnFTQIHZuBAVIQFjAnegQIAxAB&usg=AOvVaw2D5m5QaC4ox_BUqy2ct9MZ']\n",
      "['https://loveonetoday.com/how-to/pick-buy-fresh-avocados/&sa=U&ved=2ahUKEwjuyK_XgObsAhVnFTQIHZuBAVIQFjAoegQIARAB&usg=AOvVaw2Gbp6q3MbDfUJdqwCuSzIl']\n",
      "['https://loveonetoday.com/nutrition/avocado-fruit-or-vegetable/&sa=U&ved=2ahUKEwjuyK_XgObsAhVnFTQIHZuBAVIQFjApegQIAhAB&usg=AOvVaw1fpGINB2ySiJD5Tfz_k3GS']\n",
      "['https://www.everydayhealth.com/diet-nutrition/diet/avocados-health-benefits-nutrition-facts-weight-loss-info-more/&sa=U&ved=2ahUKEwjuyK_XgObsAhVnFTQIHZuBAVIQFjAqegQIDhAB&usg=AOvVaw2DNYevSWi5MfhHE5nEu5UB']\n",
      "['https://accounts.google.com/ServiceLogin%3Fcontinue%3Dhttps://www.google.com/search%253Fq%253Davocados%2526rlz%253D1C5CHFA_enCA785CA785%2526oq%253Davocados%2526aqs%253Dchrome..69i57j46i433j0l6.1310j0j4%2526sourceid%253Dchrome%2526ie%253DUTF-8%26hl%3Den&sa=U&ved=0ahUKEwjuyK_XgObsAhVnFTQIHZuBAVIQxs8CCHc&usg=AOvVaw3F-nBrtnUojvlDhf8svMle']\n"
     ]
    }
   ],
   "source": [
    "# Project 4 - gets all the links from a Google Search 'avocados'\n",
    "import urllib\n",
    "from bs4 import BeautifulSoup\n",
    "import requests\n",
    "import webbrowser\n",
    "\n",
    "page = requests.get(\"https://www.google.com/search?q=avocados&rlz=1C5CHFA_enCA785CA785&oq=avocados&aqs=chrome..69i57j46i433j0l6.1310j0j4&sourceid=chrome&ie=UTF-8\")\n",
    "\n",
    "soup = BeautifulSoup(page.content)\n",
    "\n",
    "import re\n",
    "links = soup.findAll(\"a\")\n",
    "for link in  soup.find_all(\"a\",href=re.compile(\"(?<=/url\\?q=)(htt.*://.*)\")):\n",
    "    print (re.split(\":(?=http)\",link[\"href\"].replace(\"/url?q=\",\"\")))\n"
   ]
  },
  {
   "cell_type": "code",
   "execution_count": null,
   "metadata": {},
   "outputs": [],
   "source": []
  },
  {
   "cell_type": "code",
   "execution_count": 9,
   "metadata": {},
   "outputs": [],
   "source": [
    "# 'https://markets.businessinsider.com/stocks'\n"
   ]
  },
  {
   "cell_type": "code",
   "execution_count": 10,
   "metadata": {},
   "outputs": [],
   "source": [
    "# regular expressions, searching by text \n",
    "# https://docs.python.org/3/library/re.html\n",
    "\n",
    "import re "
   ]
  },
  {
   "cell_type": "code",
   "execution_count": null,
   "metadata": {},
   "outputs": [],
   "source": [
    "# https://stackoverflow.com/questions/47928608/how-to-use-beautifulsoup-to-parse-google-search-results-in-python\n",
    "# quick example of using BeautifulSoup to Google for you "
   ]
  }
 ],
 "metadata": {
  "kernelspec": {
   "display_name": "Python 3",
   "language": "python",
   "name": "python3"
  },
  "language_info": {
   "codemirror_mode": {
    "name": "ipython",
    "version": 3
   },
   "file_extension": ".py",
   "mimetype": "text/x-python",
   "name": "python",
   "nbconvert_exporter": "python",
   "pygments_lexer": "ipython3",
   "version": "3.8.3"
  }
 },
 "nbformat": 4,
 "nbformat_minor": 2
}
